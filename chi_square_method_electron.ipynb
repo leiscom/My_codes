{
 "cells": [
  {
   "cell_type": "code",
   "execution_count": 2,
   "metadata": {},
   "outputs": [],
   "source": [
    "import random\n",
    "import pandas as pd\n",
    "import numpy as np\n",
    "import matplotlib.pyplot as plt\n",
    "\n",
    "ams_2014_electron = pd.read_csv('ams-2014-electron.csv')\n",
    "ams_2014_electron = ams_2014_electron[(ams_2014_electron[\"Emed\"] > 20)]\n",
    "#ams_2014_electron = ams_2014_electron[(ams_2014_electron[\"Emed\"] < 290)]\n",
    "Emed = ams_2014_electron[\"Emed\"].to_numpy()\n",
    "stdev_squared_sum = ams_2014_electron[\"stdev squared sum\"].to_numpy()\n",
    "flux = ams_2014_electron[\"Flux\"].to_numpy()\n"
   ]
  },
  {
   "cell_type": "markdown",
   "metadata": {},
   "source": [
    "# CHI CUADRADO"
   ]
  },
  {
   "cell_type": "code",
   "execution_count": 3,
   "metadata": {},
   "outputs": [],
   "source": [
    "def chi2tanteo(cmax=100000,gmax=100):\n",
    "    \"\"\"\n",
    "    Devuelve una tupla con los valores de los parámetros C, \"gamma\" como G y el chi cuadrado asociado\n",
    "    ,el cual no presenta ninguna precisión alguna.\n",
    "    \n",
    "    Es una función utilizada para el primer tanteo de datos tomando un mínimo en 0 y un máximo variable\n",
    "    funcionando con números aleatorios, recomendado que se modifique los rangos si se requiere\n",
    "    examinar el comportamiento de las variables más ampliamente.\n",
    "    \n",
    "    Genera error si  las variables flux, Emed y stdev_squared_sum\n",
    "    no se entregran en una formato a leer en el cual se pueda enumerar desde el 0 hasta el numero n\n",
    "    \"partiendo desde el 0 hasta el n\" ; ejemplo: si Emed su valor inicial en una lista es 36 y final\n",
    "    es 72 dara error.\n",
    "    29/12/2020\n",
    "    \n",
    "    \"\"\"\n",
    "    #Esta funcion utiliza la matematica del chi cuadrado que pide una lista de datos \n",
    "    #de resultados de la funcion y las variables de la funcion, de los cuales se\n",
    "    #requiere su cantidad para poder normalizar el chi cuadrado, ademas se requiere\n",
    "    #la \"suma de los cuadrados de la desviacion estandar\" de las variables aplicadas.\n",
    "    #se dejan de esta forma dado que C se espera que sea mayor a 0\n",
    "    #y G se espera que sea un numero positivo no muy grande dado\n",
    "    #que se sabe que modifica en gran medida a la funcion si crece.\n",
    "    c = random.uniform(0,cmax)\n",
    "    g = random.uniform(0,gmax)\n",
    "    chi2 = 0\n",
    "    chi = 0\n",
    "    imax = len(Emed)\n",
    "    normalizacion = 1/((imax)-2)\n",
    "    \n",
    "    for i in range(0,imax):\n",
    "        chi2 = normalizacion*((c*((Emed[i])**(-g))-flux[i] )**2 )/(stdev_squared_sum[i]**2)\n",
    "        chi += chi2\n",
    "    \n",
    "    resultado = (c,g,chi)\n",
    "    return resultado\n",
    "\n",
    "def chi2(c1,g1,porcentaje = 10):\n",
    "    \"\"\"\n",
    "    Devuelve una tupla con los valores de los parámetros C, \"gamma\" como G y el chi cuadrado asociado.\n",
    "    \n",
    "    Es una función la cual recibe unos parámetros C1 y G1 para los cuales se generara otro set de\n",
    "    parámetros C, G y chi cuadrado pero los cuales estan entorno a C1 y G1, este entorno es con \n",
    "    una desviación del 10% de los valores por defecto esta puede ser cambiada.\n",
    "    \n",
    "    AVISO: Varie \"porcentaje\" en el momento que la busqueda arroje errores de recursión\n",
    "    ,recuerde que python cuenta con un minimo de precision de 1e-15.\n",
    "    \n",
    "    Genera error  las variables flux, Emed y stdev_squared_sum\n",
    "    no se entregran en una formato a leer en el cual se pueda enumerar desde el 0 hasta el numero n\n",
    "    \"partiendo desde el 0 hasta el n\" ; ejemplo: si Emed su valor inicial en una lista es 36 y final\n",
    "    es 72 dara error.\n",
    "    29/12/2020\n",
    "    \"\"\"\n",
    "       #Esta función utiliza la matemática del chi cuadrado que pide una lista de datos\n",
    "    #de resultados de la función y las variables de la misma, de los cuales se\n",
    "    #requiere su cantidad para poder normalizar el chi cuadrado, ademas se requiere\n",
    "    #la \"suma de los cuadrados de la desviación estandar\" de las variables aplicadas.\n",
    "    #\n",
    "    #se aplican los rangos entorno al \"porcentaje\"% arriba y abajo de C y G\n",
    "    \n",
    "    debajo = 1 - porcentaje /100\n",
    "    arriba = 1 + porcentaje /100\n",
    "    c = random.uniform(c1*debajo,c1*arriba)\n",
    "    g = random.uniform(g1*debajo,g1*arriba)\n",
    "    \n",
    "    chi2 = 0\n",
    "    chi = 0\n",
    "    imax = len(Emed)\n",
    "    normalizacion = 1/((imax)-2)\n",
    "    \n",
    "    for i in range(0,imax):\n",
    "        chi2 =normalizacion*((c*((Emed[i])**(-g) )-flux[i] )**2 ) / (stdev_squared_sum[i]**2)\n",
    "        chi += chi2\n",
    "    \n",
    "    resultado = (c,g,chi)\n",
    "    return resultado\n"
   ]
  },
  {
   "cell_type": "markdown",
   "metadata": {},
   "source": [
    "# SELECTOR"
   ]
  },
  {
   "cell_type": "code",
   "execution_count": 21,
   "metadata": {},
   "outputs": [],
   "source": [
    "def tercer_num(tupla):\n",
    "    \"\"\"\n",
    "    Función específica para tomar el primer valor\n",
    "    de una tupla en un sorted.\n",
    "    \"\"\"\n",
    "    return(tupla[2])\n",
    "\n",
    "list_chi = [lowest,chi2_up,chi2_down]\n",
    "\n",
    "def selector(n=1,porcentaje = 10,chi_x = 0,error=5):\n",
    "    \"\"\"\n",
    "    Seleciona de los n valores de chi cuadrado el valor mas pequeño\n",
    "    con una presición de por defecto del 10%, con opción variable entre\n",
    "    3 chi cuadrados.\n",
    "    \n",
    "    Requiere la definición anterior a lowest la cual es una lista\n",
    "    con los valores oredenados C, G y chi cuadrado, para poder\n",
    "    generar valores entorno a estos datos con un 10% de presición\n",
    "    por defecto.\n",
    "    \n",
    "    los chi a utilizar son:\n",
    "    0) si se utiliza clásicamente.\n",
    "    1) si se realiza una desviación hacia arriba.\n",
    "    2) si se realiza una desviación hacia arriba, pero\n",
    "       se utiliza para guardar el valor con el opusto en\n",
    "       la grafica de chi cuadrado.\n",
    "    \n",
    "    \"error\" es una ayuda a la maquina para evitar los loops \n",
    "    infinitos, por defecto en 5 intentos antes de parar.\n",
    "    \n",
    "    AVISO:\n",
    "    Asegurarse que n no sea muy grande dado que de a poco comienza\n",
    "    a exigir dado que esta en bucle hasta que encuentre un chi\n",
    "    cuadrado.\n",
    "    \n",
    "    04/1/2021\n",
    "    \"\"\"\n",
    "    global x\n",
    "    global chi2_down\n",
    "    global lowest\n",
    "    global chi2_op\n",
    "    global chi2_up\n",
    "    global list_chi\n",
    "    #sigue el criterio de chi cuadrado\n",
    "    #si es 1 es un buen ajuste y tambien\n",
    "    #se puede ajustar entorno a 1 desviacion\n",
    "    #del chi optimo arriba y abajo de el.\n",
    "    entorno = [1,1+chi2_op[2],1+chi2_op[2]]\n",
    "    listchi2 = []\n",
    "    if x < error:\n",
    "        for i in range(0,n):\n",
    "        \n",
    "            listchi2.append(chi2(list_chi[chi_x][0],list_chi[chi_x][1],porcentaje)) #####\n",
    "    \n",
    "        sorted_list = sorted(listchi2, key = tercer_num)\n",
    "#verifica que el chi cuadrado encontrado sea mas cercano al punto que el anterior.\n",
    "        min_chi = abs(list_chi[chi_x][2] - entorno[chi_x])##\n",
    "        min_sorted_list = abs(sorted_list[0][2]-entorno[chi_x])###\n",
    "#asegurarse que n no sea muy grande dado que de a poco comienza a exigir\n",
    "#dado que esta en bucle hasta que encuentre.\n",
    "        if min_chi > min_sorted_list:\n",
    "            list_chi[chi_x] = sorted_list[0]\n",
    "            lowest = list_chi[0]\n",
    "            chi2_up = list_chi[1]\n",
    "            chi2_down = list_chi[2]\n",
    "            print(list_chi[chi_x])\n",
    "        else:\n",
    "            x+=1\n",
    "            selector(n)\n",
    "            \n",
    "def selector_x(porcentaje = 10,error=5):\n",
    "    \"\"\"\n",
    "    Selecciona chi cuadrados que respeten \"chi - chi optimo <1\"\n",
    "    utilizando el chi cuadrado optimo conseguir.\n",
    "    \"\"\"\n",
    "    global x\n",
    "    global chi2_op\n",
    "    global chi_ups\n",
    "    listchi2 = []\n",
    "    if x < error:\n",
    "        listchi2.append(chi2(chi2_op[0],chi2_op[1],porcentaje))\n",
    "    #al ser el mas facil es posible modificarlo facilmente\n",
    "    #para cumplir roles momentaneos y puntuales para el trabajo.\n",
    "        if listchi2[0][2]-chi2_op[2]<1:\n",
    "            chi_ups.append(listchi2[0])\n",
    "        else:\n",
    "            x+=1\n",
    "            selector_x(error,porcentaje)"
   ]
  },
  {
   "cell_type": "markdown",
   "metadata": {},
   "source": [
    "# TANTEO INICIAL"
   ]
  },
  {
   "cell_type": "code",
   "execution_count": null,
   "metadata": {},
   "outputs": [],
   "source": [
    "chi2min = 10e50\n",
    "cop = 0\n",
    "gop = 0\n",
    "def tanteo(X,rango=1,cmax=100000,gmax=100):\n",
    "    \"\"\"\n",
    "    Utilizada para observar el comportamiento de chi cuadrado\n",
    "    en una forma totalmente aleatoria sin restriccion en los\n",
    "    posos de chi cuadrado.\n",
    "    \n",
    "    La extención maxima del rango va desde 0 hasta \"rango\"\n",
    "    para las funciones X=2 y X=3, aumentar \"rango\" influira\n",
    "    directamente en el tiempo que demorara la búsqueda.\n",
    "    \n",
    "    AVISO: se recomienda comenzar tanteando en 1 luego en 2\n",
    "    y luego en 3, esperando llegar a algo cercano a 1 o a lo que\n",
    "    se desee.\n",
    "    \n",
    "    * 1 utiliza chi2tanteo, resetea chi2min\n",
    "    * 2 utiliza chi2tanteo, no resetea chi2min\n",
    "    * 3 utiliza chi2_10, no resetea chi2min\n",
    "    Si se consigue una aproximación a 1 se recomienda detenerse\n",
    "    dado que seguira bajando hasta ser muy cerno a 0.\n",
    "    \"\"\"\n",
    "    global chi2min\n",
    "    global cop\n",
    "    global gop\n",
    "    if X==1:\n",
    "        #tanteo en un rango aplio, normalmente\n",
    "        #con valores muy elevados.\n",
    "        #NO cambia a chi2min, cada vez que se llama\n",
    "        #lo reinicia.\n",
    "        chi = 10e50\n",
    "        chi2tmp = []\n",
    "        for i in range(0,10000):\n",
    "            ctmp,gtmp,chi2tmp = chi2tanteo(cmax,gmax)\n",
    "            if chi > chi2tmp:\n",
    "                chi2min = chi2tmp\n",
    "                cop = ctmp\n",
    "                gop = gtmp\n",
    "        print(cop,gop,chi2min)\n",
    "    elif X==2:\n",
    "        # es utilizada para que busque alrededor\n",
    "        #de chi2min que nosotro escojamos correcto\n",
    "        #la diferncia con X=1 es que este cambia y\n",
    "        #reduce el valor de chimin.\n",
    "        for z in range(0,rango):\n",
    "            chi2tmp = []\n",
    "            for i in range(0,10000):\n",
    "                ctmp,gtmp,chi2tmp = chi2tanteo()\n",
    "                if chi2min > chi2tmp:\n",
    "                    chi2min = chi2tmp\n",
    "                    cop = ctmp\n",
    "                    gop = gtmp\n",
    "        print(cop,gop,chi2min)\n",
    "    elif X==3:\n",
    "        #se utiliza cuando se quiere estar mas cerca del\n",
    "        # chi cuadrado esperado, pero no con tanto rango como\n",
    "        # x=2.\n",
    "        for z in range(0,rango):\n",
    "            chi2tmp = []\n",
    "            for i in range(0,10000):\n",
    "                ctmp,gtmp,chi2tmp = chi2(cop,gop)\n",
    "                if chi2min > chi2tmp:\n",
    "                    chi2min = chi2tmp\n",
    "                    cop = ctmp\n",
    "                    gop = gtmp\n",
    "        print(cop,gop,chi2min)\n",
    "    else:\n",
    "        print(\"ingrese 1, 2 o 3\")"
   ]
  },
  {
   "cell_type": "markdown",
   "metadata": {},
   "source": [
    "# TRABAJO MANUAL"
   ]
  },
  {
   "cell_type": "markdown",
   "metadata": {},
   "source": [
    "#### Primero realizamos un tanteo inicial para encontrar\n",
    "#### los chi cuadrados cercanos, usualmente, a 1, 0 y 2\n",
    "#### normalmente saltando mínimos como 340 y 0.4\n",
    "#### aproximadamente."
   ]
  },
  {
   "cell_type": "code",
   "execution_count": 101,
   "metadata": {},
   "outputs": [],
   "source": [
    "chi2min = 100"
   ]
  },
  {
   "cell_type": "code",
   "execution_count": null,
   "metadata": {},
   "outputs": [],
   "source": [
    "for k in range(0,20):\n",
    "    tanteo(3,rango=1,cmax=10000,gmax=10)"
   ]
  },
  {
   "cell_type": "markdown",
   "metadata": {},
   "source": [
    "#### se cambia manualmente los chi a utilizar\n",
    "#### , realizar un código dificultaria el trabajo innecesariamente."
   ]
  },
  {
   "cell_type": "code",
   "execution_count": 1,
   "metadata": {},
   "outputs": [],
   "source": [
    "lowest = []\n",
    "chi2_op = []\n",
    "chi2_up = []\n",
    "chi2_down =[]\n",
    "#\n",
    "#\n",
    "list_chi = [lowest,chi2_up,chi2_down]"
   ]
  },
  {
   "cell_type": "code",
   "execution_count": 256,
   "metadata": {
    "collapsed": true,
    "jupyter": {
     "outputs_hidden": true
    }
   },
   "outputs": [
    {
     "name": "stdout",
     "output_type": "stream",
     "text": [
      "(377.9017364711509, 3.2296561034255467, 1.0000001734071415)\n",
      "(377.90173293504165, 3.2296561030605613, 0.9999998603944408)\n",
      "(377.9017361652021, 3.2296561042446226, 1.0000000241296951)\n",
      "(377.9017398323466, 3.229656107029449, 1.0000000030781924)\n",
      "(377.9017398323466, 3.229656107029449, 1.0000000030781924)\n"
     ]
    }
   ],
   "source": [
    "#selector (n= numeros de chi2 a la lista,error = veces que repite selector,\n",
    "#                                       porcentaje = rango, chi a utilizar)\n",
    "for k in range(0,1000):\n",
    "    x=0\n",
    "    selector(porcentaje =0.000001,error = 20,chi_x=0)\n",
    "print(lowest)"
   ]
  },
  {
   "cell_type": "code",
   "execution_count": 7,
   "metadata": {},
   "outputs": [
    {
     "data": {
      "image/png": "[encoded data removed]",
      "text/plain": [
       "<Figure size 432x288 with 1 Axes>"
      ]
     },
     "metadata": {
      "needs_background": "light"
     },
     "output_type": "display_data"
    }
   ],
   "source": [
    "import matplotlib.pyplot as plt\n",
    "plt.errorbar(Emed,(Emed**3)*flux,yerr = (Emed**3)*stdev_squared_sum,fmt = \"o\" )\n",
    "plt.plot(Emed,(Emed**3)*(410.15882460040467* Emed**(-3.25725096386859)),label =\"chi2_op 1\")\n",
    "plt.plot(Emed,(Emed**3)*(377.9017398323466* Emed**(-3.229656107029449)),label =\"chi2_op 3\")\n",
    "plt.plot(Emed,(Emed**3)*(349.4899069198133* Emed**(-3.2094614670467227)),label=\"chi2_op 2\")\n",
    "plt.plot(Emed,(Emed**3)*(430.2154304665551* Emed**(-3.2752632445967365)),label=\"desviacion down\")\n",
    "plt.plot(Emed,(Emed**3)*(325.5394509920646* Emed**(-3.1874802159883884)),label=\"deviacion up\")\n",
    "\n",
    "#plt.plot(Emed,flux)\n",
    "plt.legend()\n",
    "plt.plot()\n",
    "plt.show()"
   ]
  },
  {
   "cell_type": "code",
   "execution_count": null,
   "metadata": {},
   "outputs": [],
   "source": [
    "chi_ups=[]"
   ]
  },
  {
   "cell_type": "code",
   "execution_count": null,
   "metadata": {},
   "outputs": [],
   "source": [
    "for k in range(0,10000):\n",
    "    x=0\n",
    "    selector_x(porcentaje=50,error = 10)"
   ]
  },
  {
   "cell_type": "code",
   "execution_count": null,
   "metadata": {},
   "outputs": [],
   "source": [
    "for i in range(0,len(chi_ups)):\n",
    "    plt.errorbar(chi_ups[i][0],chi_ups[i][2],fmt=\"o\")\n",
    "    plt.show"
   ]
  },
  {
   "cell_type": "code",
   "execution_count": null,
   "metadata": {},
   "outputs": [],
   "source": [
    "for i in range(0,len(chi_ups)):\n",
    "    plt.errorbar(chi_ups[i][1],chi_ups[i][2],fmt=\"o\")\n",
    "    plt.show"
   ]
  },
  {
   "cell_type": "code",
   "execution_count": null,
   "metadata": {},
   "outputs": [],
   "source": [
    "for i in range(0,len(chi_ups)):\n",
    "    plt.errorbar(chi_ups[i][1],chi_ups[i][0],fmt=\"o\")\n",
    "    plt.show"
   ]
  }
 ],
 "metadata": {
  "kernelspec": {
   "display_name": "Python 3",
   "language": "python",
   "name": "python3"
  },
  "language_info": {
   "codemirror_mode": {
    "name": "ipython",
    "version": 3
   },
   "file_extension": ".py",
   "mimetype": "text/x-python",
   "name": "python",
   "nbconvert_exporter": "python",
   "pygments_lexer": "ipython3",
   "version": "3.8.8"
  }
 },
 "nbformat": 4,
 "nbformat_minor": 4
}
